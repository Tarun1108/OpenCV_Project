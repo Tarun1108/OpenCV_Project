{
 "cells": [
  {
   "cell_type": "code",
   "execution_count": null,
   "metadata": {},
   "outputs": [],
   "source": [
    "import cv2\n",
    "cap = cv2.VideoCapture(0)\n",
    "classifier =  cv2.CascadeClassifier(\"./haarcascade_frontalface_default.xml\")\n",
    "\n",
    "while True:\n",
    "    ret,frame =cap.read()\n",
    "    \n",
    "    if ret:\n",
    "        faces = classifier.detectMultiScale(frame)\n",
    "        \n",
    "        for face in faces:\n",
    "            x,y,w,h=face\n",
    "            frame = cv2.rectangle(frame,(x,y),(x+w,y+h),(0,0,255),4)\n",
    "            \n",
    "        cv2.imshow(\"My window\" , frame)\n",
    "        \n",
    "      \n",
    "    key=cv2.waitKey(10)\n",
    "    \n",
    "    if key == ord(\"Q\"):\n",
    "        break;\n",
    "        \n",
    "cap.release()        \n",
    "cv2.destroyAllWindow()"
   ]
  },
  {
   "cell_type": "code",
   "execution_count": null,
   "metadata": {},
   "outputs": [],
   "source": []
  }
 ],
 "metadata": {
  "kernelspec": {
   "display_name": "Python 3",
   "language": "python",
   "name": "python3"
  },
  "language_info": {
   "codemirror_mode": {
    "name": "ipython",
    "version": 3
   },
   "file_extension": ".py",
   "mimetype": "text/x-python",
   "name": "python",
   "nbconvert_exporter": "python",
   "pygments_lexer": "ipython3",
   "version": "3.7.4"
  }
 },
 "nbformat": 4,
 "nbformat_minor": 2
}
